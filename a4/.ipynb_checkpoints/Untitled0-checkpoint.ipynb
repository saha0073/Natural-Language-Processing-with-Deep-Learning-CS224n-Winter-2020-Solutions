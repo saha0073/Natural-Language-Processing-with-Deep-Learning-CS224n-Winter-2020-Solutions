{
 "cells": [
  {
   "cell_type": "code",
   "execution_count": 1,
   "metadata": {
    "colab": {
     "base_uri": "https://localhost:8080/",
     "height": 156
    },
    "colab_type": "code",
    "executionInfo": {
     "elapsed": 21985,
     "status": "ok",
     "timestamp": 1594938432883,
     "user": {
      "displayName": "Subhodip Saha",
      "photoUrl": "https://lh4.googleusercontent.com/-A4vfF5DeLH0/AAAAAAAAAAI/AAAAAAAAAh8/UijQ_Akhn3k/s64/photo.jpg",
      "userId": "01295837312679332258"
     },
     "user_tz": 300
    },
    "id": "HdzcRzG7vFf9",
    "outputId": "77fe3fed-756b-48a0-b28b-d51ca38ee585"
   },
   "outputs": [
    {
     "name": "stdout",
     "output_type": "stream",
     "text": [
      "Go to this URL in a browser: https://accounts.google.com/o/oauth2/auth?client_id=947318989803-6bn6qk8qdgf4n4g3pfee6491hc0brc4i.apps.googleusercontent.com&redirect_uri=urn%3aietf%3awg%3aoauth%3a2.0%3aoob&response_type=code&scope=email%20https%3a%2f%2fwww.googleapis.com%2fauth%2fdocs.test%20https%3a%2f%2fwww.googleapis.com%2fauth%2fdrive%20https%3a%2f%2fwww.googleapis.com%2fauth%2fdrive.photos.readonly%20https%3a%2f%2fwww.googleapis.com%2fauth%2fpeopleapi.readonly\n",
      "\n",
      "Enter your authorization code:\n",
      "··········\n",
      "Mounted at /content/drive\n",
      "/content/drive/My Drive/AI/ManningNLP/a4\n",
      "/content\n"
     ]
    }
   ],
   "source": [
    "# this mounts your Google Drive to the Colab VM.\n",
    "from google.colab import drive\n",
    "drive.mount('/content/drive', force_remount=True)\n",
    "\n",
    "# enter the foldername in your Drive where you have saved the unzipped\n",
    "# assignment folder, e.g. 'cs231n/assignments/assignment3/'\n",
    "FOLDERNAME = 'AI/ManningNLP/a4'\n",
    "assert FOLDERNAME is not None, \"[!] Enter the foldername.\"\n",
    "\n",
    "# now that we've mounted your Drive, this ensures that\n",
    "# the Python interpreter of the Colab VM can load\n",
    "# python files from within it.\n",
    "import sys\n",
    "sys.path.append('/content/drive/My Drive/{}'.format(FOLDERNAME))\n",
    "\n",
    "# this downloads the CIFAR-10 dataset to your Drive\n",
    "# if it doesn't already exist.\n",
    "#%cd /content/drive/My\\ Drive/$FOLDERNAME/cs231n/datasets/\n",
    "#!bash get_datasets.sh\n",
    "%cd /content/drive/My\\ Drive/$FOLDERNAME/\n",
    "%cd /content"
   ]
  },
  {
   "cell_type": "code",
   "execution_count": 1,
   "metadata": {
    "colab": {
     "base_uri": "https://localhost:8080/",
     "height": 323
    },
    "colab_type": "code",
    "executionInfo": {
     "elapsed": 4254,
     "status": "ok",
     "timestamp": 1594950556056,
     "user": {
      "displayName": "Subhodip Saha",
      "photoUrl": "https://lh4.googleusercontent.com/-A4vfF5DeLH0/AAAAAAAAAAI/AAAAAAAAAh8/UijQ_Akhn3k/s64/photo.jpg",
      "userId": "01295837312679332258"
     },
     "user_tz": 300
    },
    "id": "vvZEU2BFvLSH",
    "outputId": "ec2fadf7-d4b6-42d1-f7f1-e003e4157038"
   },
   "outputs": [
    {
     "name": "stdout",
     "output_type": "stream",
     "text": [
      "Traceback (most recent call last):\r\n",
      "  File \"sanity_check.py\", line 23, in <module>\r\n",
      "    from docopt import docopt\r\n",
      "ModuleNotFoundError: No module named 'docopt'\r\n"
     ]
    }
   ],
   "source": [
    "!python sanity_check.py 1d"
   ]
  },
  {
   "cell_type": "code",
   "execution_count": 8,
   "metadata": {
    "colab": {
     "base_uri": "https://localhost:8080/",
     "height": 340
    },
    "colab_type": "code",
    "executionInfo": {
     "elapsed": 1720,
     "status": "ok",
     "timestamp": 1594938569365,
     "user": {
      "displayName": "Subhodip Saha",
      "photoUrl": "https://lh4.googleusercontent.com/-A4vfF5DeLH0/AAAAAAAAAAI/AAAAAAAAAh8/UijQ_Akhn3k/s64/photo.jpg",
      "userId": "01295837312679332258"
     },
     "user_tz": 300
    },
    "id": "uzrV8psbvXWq",
    "outputId": "b10c0782-fe45-4afa-e468-b0cc55b61ccf"
   },
   "outputs": [
    {
     "name": "stdout",
     "output_type": "stream",
     "text": [
      "total 156\n",
      "-rw------- 1 root root 69425 Jul 16 22:26 a4.ipynb\n",
      "-rw------- 1 root root    98 Jan 29 00:07 collect_submission.sh\n",
      "drwx------ 2 root root  4096 Jul 16 15:46 \u001b[0m\u001b[01;34men_es_data\u001b[0m/\n",
      "-rw------- 1 root root    25 Jan 10  2020 gpu_requirements.txt\n",
      "-rw------- 1 root root     0 Jan 29 00:07 __init__.py\n",
      "-rw------- 1 root root   157 Jan 29 00:07 local_env.yml\n",
      "-rw------- 1 root root  2180 Jul 16 22:20 model_embeddings.py\n",
      "-rw------- 1 root root 26091 Jul 16 22:15 nmt_model.py\n",
      "drwx------ 2 root root  4096 Jul 16 15:46 \u001b[01;34moutputs\u001b[0m/\n",
      "drwx------ 2 root root  4096 Jul 16 19:47 \u001b[01;34m__pycache__\u001b[0m/\n",
      "-rw------- 1 root root    95 Jan 10  2020 README.md\n",
      "-rw------- 1 root root 14619 Jan 29 00:34 run.py\n",
      "-rw------- 1 root root   911 Jan 29 00:07 run.sh\n",
      "drwx------ 2 root root  4096 Jul 16 15:46 \u001b[01;34msanity_check_en_es_data\u001b[0m/\n",
      "-rw------- 1 root root 10245 Jan 29 00:34 sanity_check.py\n",
      "-rw------- 1 root root  4553 Jul 16 22:28 Untitled0.ipynb\n",
      "-rw------- 1 root root  2740 Jul 16 22:01 utils.py\n",
      "-rw------- 1 root root  8155 Jan 29 00:34 vocab.py\n"
     ]
    }
   ],
   "source": [
    "%ls -la"
   ]
  },
  {
   "cell_type": "code",
   "execution_count": 4,
   "metadata": {
    "colab": {
     "base_uri": "https://localhost:8080/",
     "height": 34
    },
    "colab_type": "code",
    "executionInfo": {
     "elapsed": 771,
     "status": "ok",
     "timestamp": 1594938529088,
     "user": {
      "displayName": "Subhodip Saha",
      "photoUrl": "https://lh4.googleusercontent.com/-A4vfF5DeLH0/AAAAAAAAAAI/AAAAAAAAAh8/UijQ_Akhn3k/s64/photo.jpg",
      "userId": "01295837312679332258"
     },
     "user_tz": 300
    },
    "id": "wXh_HBkavdK_",
    "outputId": "38db821a-cc03-49db-9f32-9b83b95b7957"
   },
   "outputs": [
    {
     "name": "stdout",
     "output_type": "stream",
     "text": [
      "/content/drive/My Drive/AI/ManningNLP/a4/sanity_check_en_es_data\n"
     ]
    }
   ],
   "source": [
    "%cd /content/drive/My\\ Drive/$FOLDERNAME/sanity_check_en_es_data/"
   ]
  },
  {
   "cell_type": "code",
   "execution_count": 7,
   "metadata": {
    "colab": {
     "base_uri": "https://localhost:8080/",
     "height": 34
    },
    "colab_type": "code",
    "executionInfo": {
     "elapsed": 804,
     "status": "ok",
     "timestamp": 1594938564408,
     "user": {
      "displayName": "Subhodip Saha",
      "photoUrl": "https://lh4.googleusercontent.com/-A4vfF5DeLH0/AAAAAAAAAAI/AAAAAAAAAh8/UijQ_Akhn3k/s64/photo.jpg",
      "userId": "01295837312679332258"
     },
     "user_tz": 300
    },
    "id": "vSYg7ip4vpHQ",
    "outputId": "81983504-0485-4def-c1dc-91fa76fd773d"
   },
   "outputs": [
    {
     "name": "stdout",
     "output_type": "stream",
     "text": [
      "/content/drive/My Drive/AI/ManningNLP/a4\n"
     ]
    }
   ],
   "source": [
    "%cd .."
   ]
  },
  {
   "cell_type": "code",
   "execution_count": null,
   "metadata": {
    "colab": {},
    "colab_type": "code",
    "id": "V0ilHmrrvwr_"
   },
   "outputs": [],
   "source": []
  }
 ],
 "metadata": {
  "colab": {
   "authorship_tag": "ABX9TyMxcxo5jU0TD9uWI2B9Lbsn",
   "name": "Untitled0.ipynb",
   "provenance": []
  },
  "kernelspec": {
   "display_name": "Python 3",
   "language": "python",
   "name": "python3"
  },
  "language_info": {
   "codemirror_mode": {
    "name": "ipython",
    "version": 3
   },
   "file_extension": ".py",
   "mimetype": "text/x-python",
   "name": "python",
   "nbconvert_exporter": "python",
   "pygments_lexer": "ipython3",
   "version": "3.6.10"
  }
 },
 "nbformat": 4,
 "nbformat_minor": 1
}
